{
 "cells": [
  {
   "cell_type": "markdown",
   "metadata": {},
   "source": [
    "## Inbuilt Functions in Python\n",
    "\n",
    "Python provides a huge set of built-in functions that are always available without needing to import any module\n",
    "\n",
    "Here are some most used functions:\n",
    "\n",
    "- Type Conversion Functions\n",
    "- Input/Output Functions\n",
    "- Mathematical Functions\n",
    "- Sequence and Collection Functions\n",
    "- Object and Type Checking\n",
    "- Functional Programming Utilities\n",
    "- Exception and Error Handling\n",
    "- File and Directory Operations"
   ]
  },
  {
   "cell_type": "markdown",
   "metadata": {},
   "source": [
    "### 1. Type Conversion Functions\n",
    "\n",
    "| Function     | Description                                                  | Example                                          |\n",
    "|--------------|--------------------------------------------------------------|--------------------------------------------------|\n",
    "| `int()`      | Converts a value to an integer.                              | `int(\"123\")` → `123`                             |\n",
    "| `float()`    | Converts a value to a floating point number.                 | `float(\"12.34\")` → `12.34`                       |\n",
    "| `str()`      | Converts a value to a string.                                | `str(123)` → `\"123\"`                             |\n",
    "| `list()`     | Converts an iterable to a list.                              | `list(\"hello\")` → `['h', 'e', 'l', 'l', 'o']`     |\n",
    "| `tuple()`    | Converts an iterable to a tuple.                             | `tuple([1, 2, 3])` → `(1, 2, 3)`                 |\n",
    "| `set()`      | Converts an iterable to a set (removes duplicates).          | `set([1, 2, 3, 3])` → `{1, 2, 3}`                |\n",
    "| `dict()`     | Converts a list of tuples to a dictionary.                   | `dict([('a', 1), ('b', 2)])` → `{'a': 1, 'b': 2}` |\n",
    "| `bool()`     | Converts a value to a boolean.                               | `bool('')` → `False`, `bool(1)` → `True`         |\n",
    "| `complex()`  | Converts a real number or a string to a complex number.      | `complex(1, 2)` → `(1+2j)`                       |"
   ]
  },
  {
   "cell_type": "markdown",
   "metadata": {},
   "source": [
    "### 2. Input Output Functions\n",
    "\n",
    "| Function    | Description                                    | Example                                          |\n",
    "|-------------|------------------------------------------------|--------------------------------------------------|\n",
    "| `print()`   | Outputs data to the console.                   | `print(\"Hello, World!\")`                         |\n",
    "| `input()`   | Takes input from the user via the console.     | `name = input(\"Enter your name: \")`              |\n",
    "| `open()`    | Opens a file.                                  | `file = open('file.txt', 'r')`                   |\n",
    "| `read()`    | Reads the content of a file.                   | `file.read()` → `'file content'`                 |\n",
    "| `write()`   | Writes content to a file.                      | `file.write(\"Hello!\")`                           |\n",
    "| `close()`   | Closes an open file.                           | `file.close()`                                   |\n",
    "| `flush()`   | Flushes the internal buffer of a file.         | `file.flush()`                                   |"
   ]
  },
  {
   "cell_type": "markdown",
   "metadata": {},
   "source": [
    "### 3. Mathematical Functions\n",
    "\n",
    "| Function           | Description                                                       | Example                                |\n",
    "|--------------------|-------------------------------------------------------------------|----------------------------------------|\n",
    "| `abs()`            | Returns the absolute value of a number.                           | `abs(-5)` → `5`                        |\n",
    "| `round()`          | Rounds a floating point number to the nearest integer or decimal. | `round(3.14159, 2)` → `3.14`          |\n",
    "| `pow()`            | Returns the power of a number.                                    | `pow(2, 3)` → `8`                      |\n",
    "| `min()`            | Returns the smallest value from a sequence.                       | `min(3, 2, 1)` → `1`                   |\n",
    "| `max()`            | Returns the largest value from a sequence.                        | `max(3, 2, 1)` → `3`                   |\n",
    "| `sum()`            | Returns the sum of all items in an iterable.                      | `sum([1, 2, 3])` → `6`                 |\n",
    "| `divmod()`         | Returns a tuple of the quotient and the remainder when dividing two numbers. | `divmod(7, 3)` → `(2, 1)`             |\n",
    "| `math.sqrt()`      | Returns the square root of a number.                              | `import math; math.sqrt(16)` → `4.0`  |\n",
    "| `math.factorial()` | Returns the factorial of a number.                                | `import math; math.factorial(5)` → `120` |"
   ]
  },
  {
   "cell_type": "markdown",
   "metadata": {},
   "source": [
    "### 4. Sequence & Collection Functions\n",
    "\n",
    "| Function        | Description                                                         | Example                                      |\n",
    "|-----------------|---------------------------------------------------------------------|----------------------------------------------|\n",
    "| `len()`         | Returns the length (number of items) of an object.                   | `len(\"hello\")` → `5`                         |\n",
    "| `sorted()`      | Returns a sorted list from an iterable.                              | `sorted([3, 1, 2])` → `[1, 2, 3]`            |\n",
    "| `reversed()`    | Returns an iterator that accesses the given sequence in reverse.    | `list(reversed([1, 2, 3]))` → `[3, 2, 1]`    |\n",
    "| `all()`         | Returns True if all elements of an iterable are true.                | `all([True, True, False])` → `False`         |\n",
    "| `any()`         | Returns True if any element of an iterable is true.                  | `any([False, True, False])` → `True`         |\n",
    "| `zip()`         | Aggregates elements from iterables.                                  | `zip([1, 2], ['a', 'b'])` → `[(1, 'a'), (2, 'b')]` |\n",
    "| `enumerate()`   | Returns an enumerate object for an iterable, adding a counter.       | `enumerate([\"apple\", \"banana\"])` → `[(0, 'apple'), (1, 'banana')]` |\n",
    "| `slice()`       | Returns a slice object for slicing sequences.                        | `slice(1, 4)` → `slice(1, 4, None)`          |\n"
   ]
  },
  {
   "cell_type": "markdown",
   "metadata": {},
   "source": [
    "### 5. Object & Type Checking\n",
    "\n",
    "| Function        | Description                                                          | Example                                    |\n",
    "|-----------------|----------------------------------------------------------------------|--------------------------------------------|\n",
    "| `isinstance()`  | Checks if an object is an instance of a specified class or type.     | `isinstance(5, int)` → `True`             |\n",
    "| `type()`        | Returns the type of an object.                                       | `type(\"hello\")` → `<class 'str'>`         |\n",
    "| `id()`          | Returns the identity (unique integer) of an object.                  | `id(\"hello\")` → `140426898014512`         |\n",
    "| `issubclass()`  | Checks if a class is a subclass of another class.                    | `issubclass(bool, int)` → `True`          |"
   ]
  },
  {
   "cell_type": "markdown",
   "metadata": {},
   "source": [
    "### 6. Functional Programming Utilities\n",
    "\n",
    "| Function        | Description                                                          | Example                                      |\n",
    "|-----------------|----------------------------------------------------------------------|----------------------------------------------|\n",
    "| `map()`         | Applies a function to all items in an iterable and returns a map object. | `map(lambda x: x * 2, [1, 2, 3])` → `[2, 4, 6]` |\n",
    "| `filter()`      | Filters the elements of an iterable based on a condition.            | `filter(lambda x: x > 2, [1, 2, 3])` → `[3]` |\n",
    "| `reduce()`      | Applies a rolling computation to sequential items in an iterable.    | `from functools import reduce` <br> `reduce(lambda x, y: x + y, [1, 2, 3])` → `6` |\n",
    "| `lambda()`      | Creates an anonymous function.                                        | `lambda x: x + 1`                           |"
   ]
  },
  {
   "cell_type": "markdown",
   "metadata": {},
   "source": [
    "### 7. Exception & Error Handling\n",
    "\n",
    "| Function        | Description                                                          | Example                                                                                   |\n",
    "|-----------------|----------------------------------------------------------------------|-------------------------------------------------------------------------------------------|\n",
    "| `try`           | Starts a block of code to test for exceptions.                       | `try: x = 1 / 0`                                                                           |\n",
    "| `except`        | Catches exceptions raised in the try block.                          | `except ZeroDivisionError: print(\"Division by zero\")`                                      |\n",
    "| `finally`       | Defines code that will be executed no matter what (after try and except). | `finally: print(\"This runs anyway.\")`                                                    |\n",
    "| `raise`         | Raises a specified exception.                                        | `raise ValueError(\"Invalid value!\")`                                                     |"
   ]
  },
  {
   "cell_type": "markdown",
   "metadata": {},
   "source": [
    "### 8. File & Directory Operations\n",
    "\n",
    "| Function              | Description                                                                  | Example                                                                                   |\n",
    "|-----------------------|------------------------------------------------------------------------------|-------------------------------------------------------------------------------------------|\n",
    "| `open()`              | Opens a file.                                                                | `open('file.txt', 'r')`                                                                   |\n",
    "| `read()`              | Reads the content of a file.                                                 | `file.read() → 'file content'`                                                            |\n",
    "| `write()`             | Writes to a file.                                                            | `file.write(\"Hello!\")`                                                                    |\n",
    "| `close()`             | Closes an open file.                                                         | `file.close()`                                                                            |\n",
    "| `os.mkdir()`          | Creates a new directory.                                                     | `os.mkdir('new_directory')`                                                               |\n",
    "| `os.listdir()`        | Lists all files and directories in the specified directory.                  | `os.listdir('/path/to/dir')`                                                              |\n",
    "| `os.path.exists()`    | Checks if a file or directory exists.                                        | `os.path.exists('file.txt') → True`                                                       |\n",
    "| `shutil.copy()`       | Copies a file to another location.                                           | `shutil.copy('source.txt', 'dest.txt')`                                                  |"
   ]
  }
 ],
 "metadata": {
  "language_info": {
   "name": "python"
  }
 },
 "nbformat": 4,
 "nbformat_minor": 2
}
