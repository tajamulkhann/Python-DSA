{
 "cells": [
  {
   "cell_type": "markdown",
   "metadata": {},
   "source": [
    "## SQLite vs SQLalchemy\n",
    "\n",
    "| Feature        | SQLite 🗄️ | SQLAlchemy 🛠️ |\n",
    "|---------------|----------|--------------|\n",
    "| **Definition** | A lightweight, file-based database system. | A Python library that helps working with databases. |\n",
    "| **Purpose** | Used for local storage and small projects. | Helps interact with databases like SQLite, MySQL, and PostgreSQL. |\n",
    "| **Usage** | Stores data in a single `.sqlite` or `.db` file. | Manages database connections and queries with Python. |\n",
    "| **SQL Support** | Uses standard SQL for data manipulation. | Supports both raw SQL and an ORM for easier database interaction. |\n",
    "| **Scalability** | Best for small-scale apps with minimal users. | Works with multiple databases and scales for large applications. |\n",
    "| **Concurrency** | Limited support for multiple writers. | Handles multiple connections efficiently. |\n",
    "| **Dependency** | Built into Python (no installation needed). | Requires installation via `pip install sqlalchemy`. |\n",
    "\n",
    "### **🔹 Key Takeaways**\n",
    "- **Use SQLite** for small, single-user projects.  \n",
    "- **Use SQLAlchemy** for larger applications that need flexibility and ORM support. "
   ]
  },
  {
   "cell_type": "markdown",
   "metadata": {},
   "source": [
    "## SQLite\n",
    "is a lightweight, self-contained database that stores data in a single file. It doesn’t require a server and is great for small applications, testing, and local storage.\n"
   ]
  },
  {
   "cell_type": "code",
   "execution_count": 52,
   "metadata": {},
   "outputs": [],
   "source": [
    "import sqlite3"
   ]
  },
  {
   "cell_type": "code",
   "execution_count": null,
   "metadata": {},
   "outputs": [],
   "source": [
    "# Connect to (or create) a database file\n",
    "connection = sqlite3.connect(\"my_database.db\")"
   ]
  },
  {
   "cell_type": "code",
   "execution_count": 54,
   "metadata": {},
   "outputs": [],
   "source": [
    "# Create a cursor object to execute SQL commands\n",
    "cursor = connection.cursor()"
   ]
  },
  {
   "cell_type": "code",
   "execution_count": 57,
   "metadata": {},
   "outputs": [],
   "source": [
    "# Create a Table\n",
    "cursor.execute('''\n",
    "Create Table If Not Exists employees(\n",
    "    id Integer Primary Key,\n",
    "    name Text Not Null,\n",
    "    age Integer,\n",
    "    department text\n",
    "    )\n",
    "''')\n",
    "\n",
    "# Save the changes\n",
    "connection.commit()"
   ]
  },
  {
   "cell_type": "code",
   "execution_count": 58,
   "metadata": {},
   "outputs": [
    {
     "data": {
      "text/plain": [
       "<sqlite3.Cursor at 0x7e3de2c690c0>"
      ]
     },
     "execution_count": 58,
     "metadata": {},
     "output_type": "execute_result"
    }
   ],
   "source": [
    "cursor.execute('''\n",
    "Select * from employees\n",
    "''')"
   ]
  },
  {
   "cell_type": "code",
   "execution_count": 59,
   "metadata": {},
   "outputs": [],
   "source": [
    "# Insert the data in sqlite table\n",
    "cursor.execute('''\n",
    "Insert Into employees(name,age,department)\n",
    "               values('Tajamul',29,'Data Scientist')\n",
    "''')\n",
    "\n",
    "cursor.execute('''\n",
    "INSERT INTO employees (name, age, department)\n",
    "VALUES ('Bob', 25, 'Engineering')\n",
    "''')\n",
    "\n",
    "cursor.execute('''\n",
    "INSERT INTO employees (name, age, department)\n",
    "VALUES ('Charlie', 35, 'Finance')\n",
    "''')\n",
    "\n",
    "# save the changes\n",
    "connection.commit()"
   ]
  },
  {
   "cell_type": "code",
   "execution_count": 61,
   "metadata": {},
   "outputs": [
    {
     "name": "stdout",
     "output_type": "stream",
     "text": [
      "(1, 'Tajamul', 29, 'Data Scientist')\n",
      "(2, 'Bob', 25, 'Engineering')\n",
      "(3, 'Charlie', 35, 'Finance')\n"
     ]
    }
   ],
   "source": [
    "# Query the data from the table\n",
    "cursor.execute('Select * from employees')\n",
    "rows=cursor.fetchall()\n",
    "\n",
    "# print the queried data\n",
    "for row in rows:\n",
    "    print(row)"
   ]
  },
  {
   "cell_type": "code",
   "execution_count": 44,
   "metadata": {},
   "outputs": [],
   "source": [
    "## Update the data in the table\n",
    "cursor.execute('''\n",
    "UPDATE employees\n",
    "Set age=34\n",
    "where name=\"Krish\"\n",
    "''')\n",
    "\n",
    "connection.commit()"
   ]
  },
  {
   "cell_type": "code",
   "execution_count": null,
   "metadata": {},
   "outputs": [
    {
     "name": "stdout",
     "output_type": "stream",
     "text": [
      "(1, 'Krish', 34, 'Data Scientist')\n",
      "(3, 'Charlie', 35, 'Finance')\n",
      "(4, 'Krish', 34, 'Data Scientist')\n",
      "(6, 'Charlie', 35, 'Finance')\n",
      "(7, 'Krish', 34, 'Data Scientist')\n",
      "(9, 'Charlie', 35, 'Finance')\n",
      "(10, 'Krish', 34, 'Data Scientist')\n",
      "(11, 'Bob', 25, 'Engineering')\n",
      "(12, 'Charlie', 35, 'Finance')\n"
     ]
    }
   ],
   "source": [
    "# Query the data from the table\n",
    "cursor.execute('Select * from employees')\n",
    "rows=cursor.fetchall()\n",
    "\n",
    "# print the queried data\n",
    "for row in rows:\n",
    "    print(row)"
   ]
  },
  {
   "cell_type": "code",
   "execution_count": 46,
   "metadata": {},
   "outputs": [],
   "source": [
    "# Delete the data from the table\n",
    "cursor.execute('''\n",
    "Delete from employees\n",
    "               where name ='Bob'\n",
    "''')\n",
    "\n",
    "connection.commit()"
   ]
  },
  {
   "cell_type": "code",
   "execution_count": null,
   "metadata": {},
   "outputs": [
    {
     "name": "stdout",
     "output_type": "stream",
     "text": [
      "(1, 'Krish', 34, 'Data Scientist')\n",
      "(3, 'Charlie', 35, 'Finance')\n",
      "(4, 'Krish', 34, 'Data Scientist')\n",
      "(6, 'Charlie', 35, 'Finance')\n",
      "(7, 'Krish', 34, 'Data Scientist')\n",
      "(9, 'Charlie', 35, 'Finance')\n",
      "(10, 'Krish', 34, 'Data Scientist')\n",
      "(12, 'Charlie', 35, 'Finance')\n"
     ]
    }
   ],
   "source": [
    "# Query the data from the table\n",
    "cursor.execute('Select * from employees')\n",
    "rows=cursor.fetchall()\n",
    "\n",
    "# print the queried data\n",
    "for row in rows:\n",
    "    print(row)"
   ]
  },
  {
   "cell_type": "code",
   "execution_count": 68,
   "metadata": {},
   "outputs": [],
   "source": [
    "# Working with Sales Data\n",
    "\n",
    "# Connect to an SQLite database\n",
    "connection = sqlite3.connect('sales_data.db')\n",
    "cursor = connection.cursor()\n",
    "\n",
    "# Create a table for sales\n",
    "cursor.execute('''\n",
    "CREATE TABLE IF NOT EXISTS sales (\n",
    "    id INTEGER PRIMARY KEY,\n",
    "    date TEXT NOT NULL,\n",
    "    product TEXT NOT NULL,\n",
    "    sales INTEGER,\n",
    "    region TEXT\n",
    ")\n",
    "''')\n",
    "\n",
    "# Insert data into the sales table\n",
    "sales_data = [\n",
    "    ('2023-01-01', 'Product1', 100, 'North'),\n",
    "    ('2023-01-02', 'Product2', 200, 'South'),\n",
    "    ('2023-01-03', 'Product1', 150, 'East'),\n",
    "    ('2023-01-04', 'Product3', 250, 'West'),\n",
    "    ('2023-01-05', 'Product2', 300, 'North')\n",
    "]\n",
    "\n",
    "cursor.executemany('''\n",
    "Insert into sales(date,product,sales,region)\n",
    "                   values(?,?,?,?)\n",
    "''',sales_data)\n",
    "\n",
    "connection.commit()"
   ]
  },
  {
   "cell_type": "code",
   "execution_count": 69,
   "metadata": {},
   "outputs": [
    {
     "name": "stdout",
     "output_type": "stream",
     "text": [
      "(1, '2023-01-01', 'Product1', 100, 'North')\n",
      "(2, '2023-01-02', 'Product2', 200, 'South')\n",
      "(3, '2023-01-03', 'Product1', 150, 'East')\n",
      "(4, '2023-01-04', 'Product3', 250, 'West')\n",
      "(5, '2023-01-05', 'Product2', 300, 'North')\n",
      "(6, '2023-01-01', 'Product1', 100, 'North')\n",
      "(7, '2023-01-02', 'Product2', 200, 'South')\n",
      "(8, '2023-01-03', 'Product1', 150, 'East')\n",
      "(9, '2023-01-04', 'Product3', 250, 'West')\n",
      "(10, '2023-01-05', 'Product2', 300, 'North')\n",
      "(11, '2023-01-01', 'Product1', 100, 'North')\n",
      "(12, '2023-01-02', 'Product2', 200, 'South')\n",
      "(13, '2023-01-03', 'Product1', 150, 'East')\n",
      "(14, '2023-01-04', 'Product3', 250, 'West')\n",
      "(15, '2023-01-05', 'Product2', 300, 'North')\n",
      "(16, '2023-01-01', 'Product1', 100, 'North')\n",
      "(17, '2023-01-02', 'Product2', 200, 'South')\n",
      "(18, '2023-01-03', 'Product1', 150, 'East')\n",
      "(19, '2023-01-04', 'Product3', 250, 'West')\n",
      "(20, '2023-01-05', 'Product2', 300, 'North')\n",
      "(21, '2023-01-01', 'Product1', 100, 'North')\n",
      "(22, '2023-01-02', 'Product2', 200, 'South')\n",
      "(23, '2023-01-03', 'Product1', 150, 'East')\n",
      "(24, '2023-01-04', 'Product3', 250, 'West')\n",
      "(25, '2023-01-05', 'Product2', 300, 'North')\n",
      "(26, '2023-01-01', 'Product1', 100, 'North')\n",
      "(27, '2023-01-02', 'Product2', 200, 'South')\n",
      "(28, '2023-01-03', 'Product1', 150, 'East')\n",
      "(29, '2023-01-04', 'Product3', 250, 'West')\n",
      "(30, '2023-01-05', 'Product2', 300, 'North')\n"
     ]
    }
   ],
   "source": [
    "# Query data from the sales table\n",
    "cursor.execute('SELECT * FROM sales')\n",
    "rows = cursor.fetchall()\n",
    "\n",
    "# Print the queried data\n",
    "for row in rows:\n",
    "    print(row)"
   ]
  },
  {
   "cell_type": "code",
   "execution_count": 70,
   "metadata": {},
   "outputs": [],
   "source": [
    "connection.close()"
   ]
  },
  {
   "cell_type": "markdown",
   "metadata": {},
   "source": [
    "## SQLAlchemy"
   ]
  },
  {
   "cell_type": "markdown",
   "metadata": {},
   "source": [
    "**SQLAlchemy** is a powerful Python library for working with databases. It provides:  \n",
    "- ✅ A toolkit for managing database connections  \n",
    "- ✅ An **Object-Relational Mapper (ORM)** for handling data as Python objects  \n",
    "- ✅ Support for multiple databases like **SQLite, MySQL, PostgreSQL, and SQL Server*"
   ]
  },
  {
   "cell_type": "code",
   "execution_count": 73,
   "metadata": {},
   "outputs": [
    {
     "name": "stdout",
     "output_type": "stream",
     "text": [
      "Database connected successfully!\n"
     ]
    }
   ],
   "source": [
    "from sqlalchemy import create_engine, text\n",
    "\n",
    "# Create a database connection (Replace with actual database URL)\n",
    "connection = create_engine(\"sqlite:///my_database.db\")"
   ]
  },
  {
   "cell_type": "code",
   "execution_count": null,
   "metadata": {},
   "outputs": [],
   "source": []
  },
  {
   "cell_type": "markdown",
   "metadata": {},
   "source": []
  }
 ],
 "metadata": {
  "kernelspec": {
   "display_name": "Python 3 (ipykernel)",
   "language": "python",
   "name": "python3"
  },
  "language_info": {
   "codemirror_mode": {
    "name": "ipython",
    "version": 3
   },
   "file_extension": ".py",
   "mimetype": "text/x-python",
   "name": "python",
   "nbconvert_exporter": "python",
   "pygments_lexer": "ipython3",
   "version": "3.12.1"
  }
 },
 "nbformat": 4,
 "nbformat_minor": 2
}
