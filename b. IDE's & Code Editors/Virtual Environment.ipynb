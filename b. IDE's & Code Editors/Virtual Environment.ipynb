{
 "cells": [
  {
   "cell_type": "markdown",
   "metadata": {},
   "source": [
    "## Virtual Environment"
   ]
  },
  {
   "cell_type": "markdown",
   "metadata": {},
   "source": [
    "#### **Anaconda** \n",
    "\n",
    "*Anaconda is a bundle distribution of tools and librarires neeeded for data science like Python, R, libraries etc. It helps in setting up virtual environment and version control in easy way*"
   ]
  },
  {
   "cell_type": "markdown",
   "metadata": {},
   "source": [
    "#### **IDE** \n",
    "\n",
    "*Integrated Development Environment is a software application used for code execution, debugging etc.*\n",
    "\n",
    "* Jupyter\n",
    "* VS Code\n",
    "* Spyder\n",
    "* Google Colab"
   ]
  },
  {
   "cell_type": "markdown",
   "metadata": {},
   "source": [
    "#### **Virtual Environment** \n",
    "\n",
    "*It helps us create an isolated workspace for projects ensuring dependencies are met*"
   ]
  },
  {
   "cell_type": "markdown",
   "metadata": {},
   "source": [
    "##### **Setting up Environment**"
   ]
  },
  {
   "cell_type": "markdown",
   "metadata": {},
   "source": [
    "1. Anaconda Installed is must\n",
    "2. Create: conda create -p (path + venvname)\n",
    "    example = conda create -p \"N:\\Tajamul New\\Testing\\dep\" \n",
    "3. Activate: conda activate (path + venvname)\n",
    "    example = conda activate \"N:\\Tajamul New\\Testing\\dep\"\n",
    "4. Execute Code: create file app.py, write code like print(2+2)\n",
    "    Run in Terminal: python app.py\n",
    "4. Deactivate: conda deactivate\n"
   ]
  },
  {
   "cell_type": "markdown",
   "metadata": {},
   "source": [
    "##### **Install Packages**"
   ]
  },
  {
   "cell_type": "markdown",
   "metadata": {},
   "source": [
    "1. Create folder requirements.txt\n",
    "2. ipykernel, numpy, pandas etc\n",
    "3. Terminal -> pip install -r requirements.txt "
   ]
  },
  {
   "cell_type": "markdown",
   "metadata": {},
   "source": [
    "##### **Custom Package**"
   ]
  },
  {
   "cell_type": "markdown",
   "metadata": {},
   "source": [
    "1. Create Folder package\n",
    "2. Add File `__init__.py` to initialise package\n",
    "3. Add math file mentioning function e.g. simple addition\n",
    "4. Call the module and function - from package import math.addition"
   ]
  },
  {
   "cell_type": "markdown",
   "metadata": {},
   "source": [
    "##### **Custom Subpackage**\n",
    "\n",
    "1. Create Folder named subpackages inside package\n",
    "2. Add File `__init__.py` to initialise package\n",
    "3. Add file sample mentioning function e.g. simple subtraction etc\n",
    "4. Call the module and function - from package.subpackages import sample.subtraction"
   ]
  },
  {
   "cell_type": "markdown",
   "metadata": {},
   "source": [
    "##### **Calling Functions inside Packages and Subpackages**"
   ]
  },
  {
   "cell_type": "markdown",
   "metadata": {},
   "source": [
    "1. Create file test.py\n",
    "2. import function from custom packages and subpackages\n",
    "- from package.math import *\n",
    "- from package.subpackages.sample import *\n",
    "3. print inside test.py\n",
    "- print(addition(2,3))\n",
    "- print(subtraction(5,2))\n",
    "4. run in terminal\n",
    "python test.py"
   ]
  }
 ],
 "metadata": {
  "language_info": {
   "name": "python"
  }
 },
 "nbformat": 4,
 "nbformat_minor": 2
}
