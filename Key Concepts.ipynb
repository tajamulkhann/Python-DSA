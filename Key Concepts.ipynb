{
 "cells": [
  {
   "cell_type": "markdown",
   "metadata": {},
   "source": [
    "## Key Concepts"
   ]
  },
  {
   "cell_type": "markdown",
   "metadata": {},
   "source": [
    "#### - Strings FYI\n",
    "\n",
    "- Strings are immutable\n",
    "- Important methods: replace(old, new), strip(), .split(\", \")\n",
    "- String containing number e.g., \"26\" can be converted to int but \"ab26\" cannot be converted to int"
   ]
  },
  {
   "cell_type": "markdown",
   "metadata": {},
   "source": [
    "#### - List Reversal"
   ]
  },
  {
   "cell_type": "code",
   "execution_count": 1,
   "metadata": {},
   "outputs": [
    {
     "data": {
      "text/plain": [
       "[5, 4, 3, 2, 1]"
      ]
     },
     "execution_count": 1,
     "metadata": {},
     "output_type": "execute_result"
    }
   ],
   "source": [
    "Number = [1, 2, 3, 4, 5]\n",
    "Number.reverse()\n",
    "Number"
   ]
  },
  {
   "cell_type": "markdown",
   "metadata": {},
   "source": [
    "#### - Step Indexing"
   ]
  },
  {
   "cell_type": "code",
   "execution_count": 2,
   "metadata": {},
   "outputs": [
    {
     "name": "stdout",
     "output_type": "stream",
     "text": [
      "[1, 4, 7, 10]\n",
      "[1, 3, 5, 7, 9]\n",
      "[10, 9, 8, 7, 6, 5, 4, 3, 2, 1]\n",
      "[10, 8, 6, 4, 2]\n"
     ]
    }
   ],
   "source": [
    "numbers = [1, 2, 3, 4, 5, 6, 7, 8, 9, 10]\n",
    "\n",
    "print(numbers[::3]) \n",
    "print(numbers[::2]) \n",
    "print(numbers[::-1]) #Reverse Indexing\n",
    "print(numbers[::-2]) "
   ]
  },
  {
   "cell_type": "markdown",
   "metadata": {},
   "source": [
    "#### 3. Iterating Tips\n"
   ]
  },
  {
   "cell_type": "markdown",
   "metadata": {},
   "source": [
    "Iterating with Index"
   ]
  },
  {
   "cell_type": "code",
   "execution_count": 3,
   "metadata": {},
   "outputs": [
    {
     "name": "stdout",
     "output_type": "stream",
     "text": [
      "0 1\n",
      "1 2\n",
      "2 3\n",
      "3 4\n",
      "4 5\n",
      "5 6\n",
      "6 7\n",
      "7 8\n",
      "8 9\n",
      "9 10\n"
     ]
    }
   ],
   "source": [
    "# enumerate function\n",
    "\n",
    "numbers = [1, 2, 3, 4, 5, 6, 7, 8, 9, 10]\n",
    "\n",
    "for index, number in enumerate(numbers):\n",
    "    print(index, number)"
   ]
  },
  {
   "cell_type": "markdown",
   "metadata": {},
   "source": [
    "Iterating List with Strings"
   ]
  },
  {
   "cell_type": "code",
   "execution_count": 4,
   "metadata": {},
   "outputs": [
    {
     "name": "stdout",
     "output_type": "stream",
     "text": [
      "Tajamul\n",
      "Hassan\n",
      "Khan\n"
     ]
    }
   ],
   "source": [
    "x = [\"Tajamul\", \"Hassan\", \"Khan\"]\n",
    "\n",
    "for i in x[:]:\n",
    "    print(i)"
   ]
  },
  {
   "cell_type": "markdown",
   "metadata": {},
   "source": [
    "#### 4. List Comprehension\n",
    "\n",
    "List comprehension is a short and simple way to create a list\n",
    "\n",
    "Syntax = [expression for item in iterable if condition]"
   ]
  },
  {
   "cell_type": "code",
   "execution_count": 5,
   "metadata": {},
   "outputs": [
    {
     "data": {
      "text/plain": [
       "[0, 4, 16, 36, 64]"
      ]
     },
     "execution_count": 5,
     "metadata": {},
     "output_type": "execute_result"
    }
   ],
   "source": [
    "# Efficient way\n",
    "[x**2 for x in range(10) if x%2 ==0]"
   ]
  },
  {
   "cell_type": "markdown",
   "metadata": {},
   "source": [
    "#### 5. Nested List Comprehension"
   ]
  },
  {
   "cell_type": "code",
   "execution_count": 6,
   "metadata": {},
   "outputs": [
    {
     "name": "stdout",
     "output_type": "stream",
     "text": [
      "[[1, 'a'], [1, 'b'], [1, 'c'], [1, 'd'], [2, 'a'], [2, 'b'], [2, 'c'], [2, 'd'], [3, 'a'], [3, 'b'], [3, 'c'], [3, 'd'], [4, 'a'], [4, 'b'], [4, 'c'], [4, 'd']]\n"
     ]
    }
   ],
   "source": [
    "lst1=[1,2,3,4]\n",
    "lst2=['a','b','c','d']\n",
    "\n",
    "pair=[[i,j] for i in lst1 for j in lst2]\n",
    "\n",
    "print(pair)"
   ]
  },
  {
   "cell_type": "markdown",
   "metadata": {},
   "source": [
    "#### 6. List Comprehension with function calls"
   ]
  },
  {
   "cell_type": "code",
   "execution_count": 7,
   "metadata": {},
   "outputs": [
    {
     "name": "stdout",
     "output_type": "stream",
     "text": [
      "[5, 5, 6, 4, 13]\n"
     ]
    }
   ],
   "source": [
    "words = [\"hello\", \"world\", \"python\", \"list\", \"comprehension\"]\n",
    "lengths = [len(word) for word in words]\n",
    "print(lengths)  # Output: [5, 5, 6, 4, 13]"
   ]
  },
  {
   "cell_type": "markdown",
   "metadata": {},
   "source": [
    "#### 7. Dynamic Typing"
   ]
  },
  {
   "cell_type": "code",
   "execution_count": 8,
   "metadata": {},
   "outputs": [
    {
     "name": "stdout",
     "output_type": "stream",
     "text": [
      "10 2 20\n"
     ]
    }
   ],
   "source": [
    "age = 10; height = 2; weight = 20\n",
    "print(age, height, weight)"
   ]
  },
  {
   "cell_type": "markdown",
   "metadata": {},
   "source": [
    "#### 8. Reverse Range"
   ]
  },
  {
   "cell_type": "code",
   "execution_count": 9,
   "metadata": {},
   "outputs": [
    {
     "name": "stdout",
     "output_type": "stream",
     "text": [
      "10\n",
      "9\n",
      "8\n",
      "7\n",
      "6\n",
      "5\n",
      "4\n",
      "3\n",
      "2\n"
     ]
    }
   ],
   "source": [
    "for i in range(10,1,-1):\n",
    "    print(i)"
   ]
  },
  {
   "cell_type": "markdown",
   "metadata": {},
   "source": [
    "#### 9. Concatenate Error"
   ]
  },
  {
   "cell_type": "code",
   "execution_count": 10,
   "metadata": {},
   "outputs": [
    {
     "ename": "TypeError",
     "evalue": "can only concatenate str (not \"int\") to str",
     "output_type": "error",
     "traceback": [
      "\u001b[0;31m---------------------------------------------------------------------------\u001b[0m",
      "\u001b[0;31mTypeError\u001b[0m                                 Traceback (most recent call last)",
      "Cell \u001b[0;32mIn[10], line 2\u001b[0m\n\u001b[1;32m      1\u001b[0m \u001b[38;5;66;03m# Can't concatenante int with str\u001b[39;00m\n\u001b[0;32m----> 2\u001b[0m result \u001b[38;5;241m=\u001b[39m \u001b[38;5;124;43m\"\u001b[39;49m\u001b[38;5;124;43mHello \u001b[39;49m\u001b[38;5;124;43m\"\u001b[39;49m\u001b[43m \u001b[49m\u001b[38;5;241;43m+\u001b[39;49m\u001b[43m \u001b[49m\u001b[38;5;241;43m5\u001b[39;49m\n",
      "\u001b[0;31mTypeError\u001b[0m: can only concatenate str (not \"int\") to str"
     ]
    }
   ],
   "source": [
    "# Can't concatenante int with str\n",
    "result = \"Hello \" + 5"
   ]
  },
  {
   "cell_type": "markdown",
   "metadata": {},
   "source": [
    "#### 10. Line Continuation"
   ]
  },
  {
   "cell_type": "code",
   "execution_count": null,
   "metadata": {},
   "outputs": [
    {
     "name": "stdout",
     "output_type": "stream",
     "text": [
      "9\n"
     ]
    }
   ],
   "source": [
    "# back slash - line continuation\n",
    "print(2 + \\\n",
    "3 + \\\n",
    "4)"
   ]
  },
  {
   "cell_type": "markdown",
   "metadata": {},
   "source": [
    "#### 11. Type Conversion Concept \n",
    "\n",
    "An integer can be converted into string but a string cant be converted into integer"
   ]
  },
  {
   "cell_type": "code",
   "execution_count": 11,
   "metadata": {},
   "outputs": [
    {
     "ename": "ValueError",
     "evalue": "invalid literal for int() with base 10: 'Tajamul'",
     "output_type": "error",
     "traceback": [
      "\u001b[0;31m---------------------------------------------------------------------------\u001b[0m",
      "\u001b[0;31mValueError\u001b[0m                                Traceback (most recent call last)",
      "Cell \u001b[0;32mIn[11], line 3\u001b[0m\n\u001b[1;32m      1\u001b[0m \u001b[38;5;66;03m# String can't be converted into int\u001b[39;00m\n\u001b[1;32m      2\u001b[0m name \u001b[38;5;241m=\u001b[39m \u001b[38;5;124m\"\u001b[39m\u001b[38;5;124mTajamul\u001b[39m\u001b[38;5;124m\"\u001b[39m\n\u001b[0;32m----> 3\u001b[0m \u001b[38;5;28;43mint\u001b[39;49m\u001b[43m(\u001b[49m\u001b[43mname\u001b[49m\u001b[43m)\u001b[49m\n",
      "\u001b[0;31mValueError\u001b[0m: invalid literal for int() with base 10: 'Tajamul'"
     ]
    }
   ],
   "source": [
    "# String can't be converted into int\n",
    "name = \"Tajamul\"\n",
    "int(name)"
   ]
  },
  {
   "cell_type": "markdown",
   "metadata": {},
   "source": [
    "#### 12. Ordered/ Unordered Inbuilt Data Structures \n",
    "\n",
    "- Ordered: List, Tuple, Dictionary (Python 3.7+)\n",
    "- Unordered: Set\n",
    "Unordered means, insertion order is not maintained"
   ]
  },
  {
   "cell_type": "code",
   "execution_count": 12,
   "metadata": {},
   "outputs": [
    {
     "name": "stdout",
     "output_type": "stream",
     "text": [
      "{1, 2, 3}\n"
     ]
    }
   ],
   "source": [
    "my_set = {3, 1, 2}\n",
    "print(my_set)  # Output might be {1, 2, 3} or {3, 1, 2}"
   ]
  },
  {
   "cell_type": "markdown",
   "metadata": {},
   "source": [
    "#### 13. Dictionary Concept\n",
    "\n",
    "- A dictionary is a collection of key-value pairs.\n",
    "- Keys are unique and immutable, while values can be of any type and are mutable.\n",
    "- From Python 3.7 onwards, dictionaries maintain the insertion order of items.\n",
    "- Defined using curly braces {} with key-value pairs separated by colons :."
   ]
  },
  {
   "cell_type": "markdown",
   "metadata": {},
   "source": [
    "### 14. Set Concept: Mathematical Set Operations\n",
    "\n",
    "Set Operations are only applicable in case of Set Data Structures\n",
    "\n",
    "| Operation            | Syntax                                    | Description                                                | Example                                      |\n",
    "|----------------------|-------------------------------------------|------------------------------------------------------------|----------------------------------------------|\n",
    "| Union                | set1.union(set2) or set1 | Combines all unique elements from both sets.               | {1, 2}.union({2, 3}) → {1, 2, 3}             |\n",
    "| Intersection         | set1.intersection(set2) or set1 & set2   | Returns elements common to both sets.                      | {1, 2}.intersection({2, 3}) → {2}           |\n",
    "| Difference           | set1.difference(set2) or set1 - set2     | Returns elements in set1 but not in set2.                   | {1, 2}.difference({2, 3}) → {1}             |\n",
    "| Symmetric Difference | set1.symmetric_difference(set2) or set1 ^ set2 | Returns uncommon elements between two sets.                 | {1, 2}.symmetric_difference({2, 3}) → {1, 3} |"
   ]
  },
  {
   "cell_type": "markdown",
   "metadata": {},
   "source": [
    "#### 15. String Concept: Split() Method\n",
    "\n",
    "The split() method in Python is used to break a string into a list of substrings\n",
    "\n",
    "- Strings are immutable"
   ]
  },
  {
   "cell_type": "code",
   "execution_count": 13,
   "metadata": {},
   "outputs": [
    {
     "name": "stdout",
     "output_type": "stream",
     "text": [
      "['Hello', 'World', 'Python']\n"
     ]
    }
   ],
   "source": [
    "text = \"Hello World Python\"\n",
    "result = text.split()\n",
    "print(result)  # Output: ['Hello', 'World', 'Python']"
   ]
  },
  {
   "cell_type": "markdown",
   "metadata": {},
   "source": [
    "#### 16. Dictionary Comprehension"
   ]
  },
  {
   "cell_type": "code",
   "execution_count": 14,
   "metadata": {},
   "outputs": [
    {
     "name": "stdout",
     "output_type": "stream",
     "text": [
      "{0: 0, 2: 4, 4: 16, 6: 36, 8: 64}\n"
     ]
    }
   ],
   "source": [
    "# Dictionary Comphrehension\n",
    "evens={x:x**2 for x in range(10) if x%2==0}\n",
    "print(evens)"
   ]
  },
  {
   "cell_type": "markdown",
   "metadata": {},
   "source": [
    "#### 17. Shallow Copy Concept\n",
    "\n",
    "A shallow copy creates a new object but only copies references to the elements of the original object. \n",
    "\n",
    "Changes to mutable elements (like lists, dicts) in the original will affect the shallow copy and vice versa."
   ]
  },
  {
   "cell_type": "code",
   "execution_count": 15,
   "metadata": {},
   "outputs": [
    {
     "name": "stdout",
     "output_type": "stream",
     "text": [
      "{'name': 'Tajamul', 'age': 29, 'grade': 'A'}\n",
      "{'name': 'Tajamul', 'age': 29, 'grade': 'A'}\n"
     ]
    }
   ],
   "source": [
    "# why do we need shallow copy\n",
    "student={\"name\":\"Tajamul\",\"age\":29,\"grade\":'A'}\n",
    "student_copy1 = student.copy() ## shallow copy\n",
    "print(student_copy1)\n",
    "print(student)"
   ]
  },
  {
   "cell_type": "markdown",
   "metadata": {},
   "source": [
    "#### 18. Are Dictionaries Immutable and do they allow duplicates?\n",
    "\n",
    "Key are immutable and do not allow duplicates\n",
    "\n",
    "Values are mutable and can allow duplicates"
   ]
  },
  {
   "cell_type": "code",
   "execution_count": 16,
   "metadata": {},
   "outputs": [
    {
     "name": "stdout",
     "output_type": "stream",
     "text": [
      "{'name': 24, 'age': 29}\n"
     ]
    }
   ],
   "source": [
    "# Only unique key is allowed\n",
    "student={\"name\":\"Tajamul\",\"age\":29,\"name\":24}\n",
    "print(student)"
   ]
  },
  {
   "cell_type": "markdown",
   "metadata": {},
   "source": [
    "#### 19. Iterating over Dictionaries"
   ]
  },
  {
   "cell_type": "code",
   "execution_count": 19,
   "metadata": {},
   "outputs": [
    {
     "name": "stdout",
     "output_type": "stream",
     "text": [
      "name\n",
      "age\n",
      "grade\n",
      "Tajamul\n",
      "29\n",
      "A\n",
      "name: Tajamul\n",
      "age: 29\n",
      "grade: A\n"
     ]
    }
   ],
   "source": [
    "# Dictionary to iterate over key-value pairs\n",
    "student = {\"name\": \"Tajamul\", \"age\": 29, \"grade\": 'A'}\n",
    "\n",
    "# Iterate over keys\n",
    "for key in student.keys():\n",
    "    print(key)\n",
    "\n",
    "# Iterate over values\n",
    "for value in student.values():\n",
    "    print(value)\n",
    "\n",
    "# Iterate over key-value pairs\n",
    "for key, value in student.items():\n",
    "    print(f\"{key}: {value}\")\n"
   ]
  },
  {
   "cell_type": "markdown",
   "metadata": {},
   "source": [
    "#### 20. Merging Dictionaries"
   ]
  },
  {
   "cell_type": "code",
   "execution_count": 20,
   "metadata": {},
   "outputs": [
    {
     "name": "stdout",
     "output_type": "stream",
     "text": [
      "{'a': 1, 'b': 3, 'c': 4}\n"
     ]
    }
   ],
   "source": [
    "dict1={\"a\":1,\"b\":2}\n",
    "dict2={\"b\":3,\"c\":4}\n",
    "merged_dict={**dict1,**dict2}\n",
    "print(merged_dict)"
   ]
  },
  {
   "cell_type": "markdown",
   "metadata": {},
   "source": [
    "#### 21. Unpacking Nested Tuple"
   ]
  },
  {
   "cell_type": "code",
   "execution_count": 21,
   "metadata": {},
   "outputs": [
    {
     "name": "stdout",
     "output_type": "stream",
     "text": [
      "1 2 3 \n",
      "a b c \n",
      "True False \n"
     ]
    }
   ],
   "source": [
    "nested_tuple = ((1, 2, 3), (\"a\", \"b\", \"c\"), (True, False))\n",
    "\n",
    "# iterating over nested tuples\n",
    "for sub_tuple in nested_tuple:\n",
    "    for item in sub_tuple:\n",
    "        print(item,end=\" \")\n",
    "    print()"
   ]
  },
  {
   "cell_type": "markdown",
   "metadata": {},
   "source": [
    "#### 22. Args vs. Kwargs\n",
    "\n",
    "* args allows passing a variable number of non-keyword arguments, while \n",
    "* kwargs allows passing a variable number of keyword arguments."
   ]
  },
  {
   "cell_type": "code",
   "execution_count": 22,
   "metadata": {},
   "outputs": [
    {
     "name": "stdout",
     "output_type": "stream",
     "text": [
      "(1, 2, 3) {'name': 'Alice', 'age': 30}\n"
     ]
    }
   ],
   "source": [
    "def example(*args, **kwargs): print(args, kwargs)\n",
    "example(1, 2, 3, name=\"Alice\", age=30)"
   ]
  },
  {
   "cell_type": "markdown",
   "metadata": {},
   "source": [
    "#### 23. Round Formatting in Float "
   ]
  },
  {
   "cell_type": "code",
   "execution_count": 23,
   "metadata": {},
   "outputs": [
    {
     "name": "stdout",
     "output_type": "stream",
     "text": [
      "85.540\n"
     ]
    }
   ],
   "source": [
    "x = 85.54\n",
    "\n",
    "print(f\"{x:.3f}\")"
   ]
  },
  {
   "cell_type": "markdown",
   "metadata": {},
   "source": [
    "#### 24. Difference between Parameters, Args and Kwargs"
   ]
  },
  {
   "cell_type": "markdown",
   "metadata": {},
   "source": [
    "1. Parameters\n",
    "\n",
    "These are variables defined in the function to accept fixed inputs."
   ]
  },
  {
   "cell_type": "code",
   "execution_count": 24,
   "metadata": {},
   "outputs": [
    {
     "name": "stdout",
     "output_type": "stream",
     "text": [
      "Taju is 29 years old.\n"
     ]
    }
   ],
   "source": [
    "def greet(name, age):  # Parameters: name, age\n",
    "    print(f\"{name} is {age} years old.\")\n",
    "\n",
    "greet(\"Taju\", 29)  # Pass values for parameters"
   ]
  },
  {
   "cell_type": "markdown",
   "metadata": {},
   "source": [
    "2. *args\n",
    "\n",
    "Used to accept any number of positional arguments (collected into a tuple)."
   ]
  },
  {
   "cell_type": "code",
   "execution_count": 25,
   "metadata": {},
   "outputs": [
    {
     "name": "stdout",
     "output_type": "stream",
     "text": [
      "Positional arguments: ('Taju', 'Khan', 29)\n"
     ]
    }
   ],
   "source": [
    "def greet(*args):  # args is a tuple of all extra arguments\n",
    "    print(\"Positional arguments:\", args)\n",
    "\n",
    "greet(\"Taju\", \"Khan\", 29)  # Passing multiple positional arguments"
   ]
  },
  {
   "cell_type": "markdown",
   "metadata": {},
   "source": [
    "3. **kwargs"
   ]
  },
  {
   "cell_type": "code",
   "execution_count": 26,
   "metadata": {},
   "outputs": [
    {
     "name": "stdout",
     "output_type": "stream",
     "text": [
      "Keyword arguments: {'name': 'Taju', 'age': 29}\n"
     ]
    }
   ],
   "source": [
    "def greet(**kwargs):  # kwargs is a dictionary of all extra key-value pairs\n",
    "    print(\"Keyword arguments:\", kwargs)\n",
    "\n",
    "greet(name=\"Taju\", age=29)  # Passing key-value pairs"
   ]
  },
  {
   "cell_type": "markdown",
   "metadata": {},
   "source": [
    "What Does * Indicate?\n",
    "\n",
    "A single * (*args) tells Python to collect positional arguments into a tuple.\n",
    "\n",
    "A double ** (**kwargs) tells Python to collect keyword arguments into a dictionary."
   ]
  },
  {
   "cell_type": "markdown",
   "metadata": {},
   "source": [
    "#### 25. Doc String"
   ]
  },
  {
   "cell_type": "markdown",
   "metadata": {},
   "source": [
    "- A docstring (short for documentation string) in Python is a special kind of string used to describe what a function, class, or module does. \n",
    "- It provides documentation about the purpose, behavior, and usage of the code, making it easier for others (or yourself) to understand the code later."
   ]
  },
  {
   "cell_type": "markdown",
   "metadata": {},
   "source": [
    "#### 26. any Function\n",
    "\n",
    "- The any() function in Python is used to check if at least one element in an iterable (e.g., list, tuple, set) evaluates to True. \n",
    "- If any element is True, the function returns True. If all elements are False or the iterable is empty, it returns False."
   ]
  },
  {
   "cell_type": "code",
   "execution_count": null,
   "metadata": {},
   "outputs": [],
   "source": [
    "# Example using any()\n",
    "numbers = [0, 0, 5, 0]\n",
    "\n",
    "# Check if any element in the list is True (non-zero)\n",
    "result = any(numbers)\n",
    "\n",
    "print(result)  # Output: True"
   ]
  },
  {
   "cell_type": "markdown",
   "metadata": {},
   "source": [
    "#### 27. lambda Function\n",
    "\n",
    "- Lambda functions are small anonymous functions i.e., Lambda functions don't need a name defined using the **lambda** keyword. \n",
    "- They can have any number of arguments but only one expression."
   ]
  },
  {
   "cell_type": "code",
   "execution_count": 1,
   "metadata": {},
   "outputs": [
    {
     "data": {
      "text/plain": [
       "<function __main__.<lambda>(arguments)>"
      ]
     },
     "execution_count": 1,
     "metadata": {},
     "output_type": "execute_result"
    }
   ],
   "source": [
    "#Syntax \n",
    "lambda arguments: expression"
   ]
  },
  {
   "cell_type": "code",
   "execution_count": null,
   "metadata": {},
   "outputs": [],
   "source": [
    "def addition(x,y,z): #multiple arguments\n",
    "    return x+y+z. #single expression\n",
    "\n",
    "addition(12,13,14)"
   ]
  },
  {
   "cell_type": "markdown",
   "metadata": {},
   "source": [
    "#### 28. Named vs. lambda Functions\n",
    "\n",
    "| Feature             | def Functions                             | lambda Functions                                |\n",
    "|---------------------|-------------------------------------------|------------------------------------------------|\n",
    "| Naming              | Named functions                          | Anonymous (can be assigned to variables)       |\n",
    "| Complexity          | Can have multiple expressions            | Limited to a single expression                 |\n",
    "| Scope of Use        | Suitable for complex logic               | Suitable for short, simple tasks               |\n",
    "| Reusability         | Designed for reuse                       | Typically used temporarily                     |"
   ]
  },
  {
   "cell_type": "markdown",
   "metadata": {},
   "source": [
    "#### 29. Filter Functions with multiple Conditions"
   ]
  },
  {
   "cell_type": "code",
   "execution_count": null,
   "metadata": {},
   "outputs": [],
   "source": [
    "numbers=[1,2,3,4,5,6,7,8,9]\n",
    "even_and_greater_than_five=list(filter(lambda x:x>5 and x%2==0,numbers))\n",
    "print(even_and_greater_than_five)"
   ]
  },
  {
   "cell_type": "markdown",
   "metadata": {},
   "source": [
    "#### 30. Map Functions with multiple Attributes"
   ]
  },
  {
   "cell_type": "code",
   "execution_count": null,
   "metadata": {},
   "outputs": [],
   "source": [
    "numbers1=[1,2,3]\n",
    "numbers2=[4,5,6]\n",
    "\n",
    "added_numbers=list(map(lambda x,y:x+y,numbers1,numbers2))\n",
    "print(added_numbers)"
   ]
  },
  {
   "cell_type": "markdown",
   "metadata": {},
   "source": [
    "#### 31. Importing Modules and Functions"
   ]
  },
  {
   "cell_type": "markdown",
   "metadata": {},
   "source": [
    "There are multiple ways to import modules, functions"
   ]
  },
  {
   "cell_type": "code",
   "execution_count": 5,
   "metadata": {},
   "outputs": [
    {
     "data": {
      "text/plain": [
       "3.4641016151377544"
      ]
     },
     "execution_count": 5,
     "metadata": {},
     "output_type": "execute_result"
    }
   ],
   "source": [
    "# Import Module\n",
    "import math\n",
    "math.pi"
   ]
  },
  {
   "cell_type": "code",
   "execution_count": 6,
   "metadata": {},
   "outputs": [
    {
     "data": {
      "text/plain": [
       "3.141592653589793"
      ]
     },
     "execution_count": 6,
     "metadata": {},
     "output_type": "execute_result"
    }
   ],
   "source": [
    "# Import Selected Functions\n",
    "from math import pi\n",
    "pi"
   ]
  },
  {
   "cell_type": "code",
   "execution_count": 7,
   "metadata": {},
   "outputs": [],
   "source": [
    "# Import All Functions\n",
    "from math import *"
   ]
  },
  {
   "attachments": {
    "image.png": {
     "image/png": "[encoded data removed]"
    }
   },
   "cell_type": "markdown",
   "metadata": {},
   "source": [
    "#### 32. What are Packages, Modules, Classes, Functions\n",
    "\n",
    "lets take an example of pandas, \n",
    "* package = pandas\n",
    "* IO Module = read, export\n",
    "* function = read_csv()\n",
    "\n",
    "![image.png](attachment:image.png)"
   ]
  },
  {
   "cell_type": "markdown",
   "metadata": {},
   "source": [
    "#### 33. What is Pseudocode?\n",
    "\n",
    "Pseudocode is not actual code, but rather a simplified, high-level outline of a program's logic in plain language\n",
    "\n",
    "It is often written before actual code"
   ]
  },
  {
   "cell_type": "code",
   "execution_count": null,
   "metadata": {},
   "outputs": [],
   "source": [
    "\"\"\"\n",
    "START\n",
    "  Define number1 and number2\n",
    "  Set number1 to 5\n",
    "  Set number2 to 3\n",
    "  Add number1 and number2 and store the result in sum\n",
    "  Print sum\n",
    "END\n",
    "\"\"\""
   ]
  },
  {
   "cell_type": "markdown",
   "metadata": {},
   "source": [
    "#### 34. Some Useful Module Functions"
   ]
  },
  {
   "cell_type": "markdown",
   "metadata": {},
   "source": [
    "Random selection from int and str"
   ]
  },
  {
   "cell_type": "code",
   "execution_count": null,
   "metadata": {},
   "outputs": [],
   "source": [
    "# choose random int\n",
    "random.randint(1,2)\n",
    "\n",
    "# Choose random str\n",
    "random.choice('apple','banana')"
   ]
  },
  {
   "cell_type": "markdown",
   "metadata": {},
   "source": [
    "date time functions"
   ]
  },
  {
   "cell_type": "code",
   "execution_count": 11,
   "metadata": {},
   "outputs": [
    {
     "name": "stdout",
     "output_type": "stream",
     "text": [
      "2024\n",
      "2024-12-04 09:49:41.666118\n"
     ]
    }
   ],
   "source": [
    "from datetime import datetime, timedelta\n",
    "\n",
    "# Year\n",
    "curr_year = datetime.now().year\n",
    "print(curr_year)\n",
    "\n",
    "\n",
    "# previous period\n",
    "print(datetime.now() - timedelta(days = 20))"
   ]
  },
  {
   "cell_type": "markdown",
   "metadata": {},
   "source": [
    "#### 35. File Operation Tips"
   ]
  },
  {
   "cell_type": "code",
   "execution_count": null,
   "metadata": {},
   "outputs": [],
   "source": [
    "# Most preffered = w+ Mode\n",
    "\n",
    "# Writing and then reading a file\n",
    "with open('example.txt','w+') as file:\n",
    "    file.write(\"Hello world\\n\")\n",
    "    file.write(\"This is a new line \\n\")\n",
    "\n",
    "    ## Move the file cursor to the beginning\n",
    "    file.seek(0)\n",
    "\n",
    "    ## Read the content of the file\n",
    "    content=file.read()\n",
    "    print(content)"
   ]
  },
  {
   "cell_type": "markdown",
   "metadata": {},
   "source": [
    "#### 36. Exception Handling Tips"
   ]
  },
  {
   "cell_type": "code",
   "execution_count": 18,
   "metadata": {},
   "outputs": [
    {
     "ename": "TypeError",
     "evalue": "divider() takes 0 positional arguments but 1 was given",
     "output_type": "error",
     "traceback": [
      "\u001b[0;31m---------------------------------------------------------------------------\u001b[0m",
      "\u001b[0;31mTypeError\u001b[0m                                 Traceback (most recent call last)",
      "Cell \u001b[0;32mIn[18], line 13\u001b[0m\n\u001b[1;32m     10\u001b[0m     \u001b[38;5;28;01melse\u001b[39;00m:\n\u001b[1;32m     11\u001b[0m         \u001b[38;5;28mprint\u001b[39m()\n\u001b[0;32m---> 13\u001b[0m \u001b[43mdivider\u001b[49m\u001b[43m(\u001b[49m\u001b[38;5;241;43m0\u001b[39;49m\u001b[43m)\u001b[49m\n",
      "\u001b[0;31mTypeError\u001b[0m: divider() takes 0 positional arguments but 1 was given"
     ]
    }
   ],
   "source": [
    "x = int(input(\"Enter the numerator: \"))\n",
    "y = int(input(\"Enter the denominator: \"))\n",
    "\n",
    "def safe_division(x, y):\n",
    "    try:\n",
    "        result = x / y  # Proper indentation inside the try block\n",
    "    except ZeroDivisionError as e:\n",
    "        print(f\"Error: Division by zero is not allowed. {e}\")\n",
    "    else:\n",
    "        print(f\"The result of the division is: {result}\")\n",
    "\n",
    "safe_division(x, y)"
   ]
  },
  {
   "cell_type": "code",
   "execution_count": 13,
   "metadata": {},
   "outputs": [
    {
     "name": "stdout",
     "output_type": "stream",
     "text": [
      "The file does not exists\n",
      "Bye Bye\n"
     ]
    }
   ],
   "source": [
    "## try,except,else and finally\n",
    "try:\n",
    "    file=open('example1.txt','r')\n",
    "    content=file.read()\n",
    "    print(content)\n",
    "\n",
    "except FileNotFoundError:\n",
    "    print(\"The file does not exists\")\n",
    "except Exception as ex:\n",
    "    print(ex)\n",
    "\n",
    "finally:\n",
    "    print('Bye Bye')"
   ]
  }
 ],
 "metadata": {
  "kernelspec": {
   "display_name": "Python 3 (ipykernel)",
   "language": "python",
   "name": "python3"
  }
 },
 "nbformat": 4,
 "nbformat_minor": 2
}
