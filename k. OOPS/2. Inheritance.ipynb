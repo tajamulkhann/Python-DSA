{
 "cells": [
  {
   "cell_type": "markdown",
   "metadata": {},
   "source": [
    "## Inheritance In Python\n",
    "Inheritance allows a class to inherit attributes and methods from another class.\n",
    "\n",
    "The class from which properties are inherited is called the **Parent Class** or **Base \n",
    "Class** and the class which is inheriting the properties is called the **Child Class** or \n",
    "**Derived Class**. \n",
    "\n",
    "In plain English, you can say that \"*The child class inherits the properties of the parent \n",
    "class or the derived class is formed using the base class properties*\". \n",
    "\n",
    "Use: *To reduce repetition of code / DRY*"
   ]
  },
  {
   "cell_type": "markdown",
   "metadata": {},
   "source": [
    "### What is Constructor\n",
    "\n",
    "        __init__\n",
    "\n",
    "is used to initialise variables inside Constructor that are k/as instance Variables \n",
    "\n",
    "By default, a constructor takes the self-keyword as a mandatory input. \n",
    "\n",
    "A constructor never returns anything. Hence, it will never have the return keyword. "
   ]
  },
  {
   "cell_type": "markdown",
   "metadata": {},
   "source": [
    "### Types of Inheritance"
   ]
  },
  {
   "cell_type": "markdown",
   "metadata": {},
   "source": [
    "| Type of Inheritance | Structure                             | Characteristics                                                                 |\n",
    "|---------------------|---------------------------------------|--------------------------------------------------------------------------------|\n",
    "| Single-Level        | Parent → Child                        | One child inherits directly from one parent.                                    |\n",
    "| Multi-Level         | Grandparent → Parent → Child          | Forms a chain of inheritance, each class inheriting from the one above.        |\n",
    "| Multiple            | Parent1 + Parent2 → Child            | A child inherits from multiple parent classes simultaneously. Uses Method Resolution Order (MRO). |"
   ]
  },
  {
   "cell_type": "markdown",
   "metadata": {},
   "source": [
    "#### 1. Single Level Inheritance\n",
    "\n",
    "In single-level inheritance, a child class inherits directly from one parent class.\n"
   ]
  },
  {
   "cell_type": "code",
   "execution_count": 1,
   "metadata": {},
   "outputs": [
    {
     "name": "stdout",
     "output_type": "stream",
     "text": [
      "Daddy's skin color is Brown. Grandpa was an Asian and followed Muslim religion.\n"
     ]
    }
   ],
   "source": [
    "# Parent Class\n",
    "class Grandpa:\n",
    "    def __init__(self, race, religion):\n",
    "        self.race = race\n",
    "        self.religion = religion\n",
    "\n",
    "    def show_grandpa_details(self):\n",
    "        return f\"Grandpa was an {self.race} and followed {self.religion} religion.\"\n",
    "\n",
    "# Child Class\n",
    "class Daddy(Grandpa):\n",
    "    def __init__(self, race, religion, color):\n",
    "        super().__init__(race, religion)  # Initialize Grandpa's attributes\n",
    "        self.color = color\n",
    "\n",
    "    def show_daddy_details(self):\n",
    "        return f\"Daddy's skin color is {self.color}. {self.show_grandpa_details()}\"\n",
    "\n",
    "# Example Usage\n",
    "daddy = Daddy(\"Asian\", \"Muslim\", \"Brown\")\n",
    "print(daddy.show_daddy_details())"
   ]
  },
  {
   "cell_type": "markdown",
   "metadata": {},
   "source": [
    "#### 2. Multi-Level Inheritance\n",
    "In multi-level inheritance, a class inherits from another derived class, creating a chain."
   ]
  },
  {
   "cell_type": "code",
   "execution_count": 2,
   "metadata": {},
   "outputs": [
    {
     "name": "stdout",
     "output_type": "stream",
     "text": [
      "My Grandpa was an Asian and a Muslim. My Daddy's skin color was Brown. My name is Tajamul and I drive a Honda.\n"
     ]
    }
   ],
   "source": [
    "# Parent Class\n",
    "class Grandpa:\n",
    "    def __init__(self, race, religion):\n",
    "        self.race = race\n",
    "        self.religion = religion\n",
    "\n",
    "# Child Class\n",
    "class Daddy(Grandpa):\n",
    "    def __init__(self, race, religion, color):\n",
    "        super().__init__(race, religion)  # Initialize Grandpa's attributes\n",
    "        self.color = color\n",
    "\n",
    "# Grandchild Class\n",
    "class Son(Daddy):\n",
    "    def __init__(self, race, religion, color, name, car):\n",
    "        super().__init__(race, religion, color)  # Initialize Daddy's and Grandpa's attributes\n",
    "        self.name = name\n",
    "        self.car = car\n",
    "\n",
    "    def full_details(self):\n",
    "        return (\n",
    "            f\"My Grandpa was an {self.race} and a {self.religion}. \"\n",
    "            f\"My Daddy's skin color was {self.color}. \"\n",
    "            f\"My name is {self.name} and I drive a {self.car}.\"\n",
    "        )\n",
    "\n",
    "# Example Usage\n",
    "son = Son(\"Asian\", \"Muslim\", \"Brown\", \"Tajamul\", \"Honda\")\n",
    "print(son.full_details())"
   ]
  },
  {
   "cell_type": "markdown",
   "metadata": {},
   "source": [
    "#### 3. Multiple Inheritance\n",
    "\n",
    "In multiple inheritance, a class inherits from two or more parent classes."
   ]
  },
  {
   "cell_type": "code",
   "execution_count": 3,
   "metadata": {},
   "outputs": [
    {
     "name": "stdout",
     "output_type": "stream",
     "text": [
      "My name is Chris. My Father is a Doctor and My Mother is Loving and Caring.\n"
     ]
    }
   ],
   "source": [
    "# First Parent Class\n",
    "class Father:\n",
    "    def __init__(self, profession):\n",
    "        self.profession = profession\n",
    "\n",
    "# Second Parent Class\n",
    "class Mother:\n",
    "    def __init__(self, personality):\n",
    "        self.personality = personality\n",
    "\n",
    "# Child Class\n",
    "class Child(Father, Mother):\n",
    "    def __init__(self, profession, personality, name):\n",
    "        Father.__init__(self, profession)  # Initialize Father's attributes\n",
    "        Mother.__init__(self, personality)  # Initialize Mother's attributes\n",
    "        self.name = name\n",
    "\n",
    "    def full_details(self):\n",
    "        return (\n",
    "            f\"My name is {self.name}. My Father is a {self.profession} and \"\n",
    "            f\"My Mother is {self.personality}.\"\n",
    "        )\n",
    "\n",
    "# Example Usage\n",
    "child = Child(\"Doctor\", \"Loving and Caring\", \"Chris\")\n",
    "print(child.full_details())"
   ]
  },
  {
   "cell_type": "markdown",
   "metadata": {},
   "source": [
    "#### Conclusion\n",
    "Inheritance is a powerful feature in OOP that allows for code reuse and the creation of a more logical class structure. Single inheritance involves one base class, while multiple inheritance involves more than one base class. Understanding how to implement and use inheritance in Python will enable you to design more efficient and maintainable object-oriented programs."
   ]
  }
 ],
 "metadata": {
  "kernelspec": {
   "display_name": "Python 3 (ipykernel)",
   "language": "python",
   "name": "python3"
  }
 },
 "nbformat": 4,
 "nbformat_minor": 2
}
