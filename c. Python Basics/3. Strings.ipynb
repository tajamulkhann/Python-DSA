{
 "cells": [
  {
   "cell_type": "markdown",
   "metadata": {},
   "source": [
    "## Strings\n",
    "\n",
    "- A string in Python is a sequence of characters enclosed within single quotes (') or double quotes (\"). \n",
    "- Strings are immutable, meaning once created, they cannot be modified. \n",
    "- They can be of any length and can contain letters, numbers, spaces, and special characters."
   ]
  },
  {
   "cell_type": "code",
   "execution_count": 1,
   "metadata": {},
   "outputs": [
    {
     "name": "stdout",
     "output_type": "stream",
     "text": [
      "Hello, World!\n"
     ]
    }
   ],
   "source": [
    "my_string = \"Hello, World!\"\n",
    "print(my_string)"
   ]
  },
  {
   "cell_type": "markdown",
   "metadata": {},
   "source": [
    "- ### **String Methods**\n",
    "\n",
    "| Method                   | Description                                                            | Example                                           |\n",
    "|--------------------------|------------------------------------------------------------------------|---------------------------------------------------|\n",
    "| `lower()`                | Converts all characters to lowercase.                                  | `my_string.lower()` → \"hello, world!\"            |\n",
    "| `upper()`                | Converts all characters to uppercase.                                  | `my_string.upper()` → \"HELLO, WORLD!\"            |\n",
    "| `strip()`                | Removes leading and trailing whitespace.                               | `my_string.strip()` → \"Hello, World!\"            |\n",
    "| `replace(old, new)`      | Replaces all occurrences of `old` with `new`.                          | `my_string.replace(\"World\", \"Python\")` → \"Hello, Python!\" |\n",
    "| `split(separator)`       | Splits the string into a list using the specified separator.           | `my_string.split(\", \")` → `['Hello', \"World!']`  |\n",
    "| `find(substring)`        | Returns the index of the first occurrence of `substring`, or -1 if not found. | `my_string.find(\"World\")` → 7                   |\n",
    "| `join(iterable)`         | Joins elements of an iterable into a single string.                    | `\" \".join(my_list)` → \"Hello World\"              |\n",
    "| `startswith(prefix)`     | Returns True if the string starts with the specified prefix.          | `my_string.startswith(\"Hello\")` → True           |\n",
    "| `endswith(suffix)`       | Returns True if the string ends with the specified suffix.            | `my_string.endswith(\"World!\")` → True            |\n",
    "| `count(substring)`       | Returns the number of occurrences of `substring` in the string.       | `my_string.count(\"Hello\")` → 2                   |"
   ]
  },
  {
   "cell_type": "code",
   "execution_count": 2,
   "metadata": {},
   "outputs": [
    {
     "name": "stdout",
     "output_type": "stream",
     "text": [
      "hello, world!\n"
     ]
    }
   ],
   "source": [
    "#lower - Converts all characters to lowercase.\n",
    "\n",
    "my_string = \"Hello, World!\"\n",
    "print(my_string.lower()) "
   ]
  },
  {
   "cell_type": "code",
   "execution_count": 3,
   "metadata": {},
   "outputs": [
    {
     "name": "stdout",
     "output_type": "stream",
     "text": [
      "HELLO, WORLD!\n"
     ]
    }
   ],
   "source": [
    "# upper() - Converts all characters to uppercase.\n",
    "\n",
    "my_string = \"Hello, World!\"\n",
    "print(my_string.upper())"
   ]
  },
  {
   "cell_type": "code",
   "execution_count": 4,
   "metadata": {},
   "outputs": [
    {
     "name": "stdout",
     "output_type": "stream",
     "text": [
      "Hello, World!\n"
     ]
    }
   ],
   "source": [
    "# strip() - Removes leading and trailing whitespace.\n",
    "\n",
    "my_string = \"   Hello, World!   \"\n",
    "print(my_string.strip()) "
   ]
  },
  {
   "cell_type": "code",
   "execution_count": 5,
   "metadata": {},
   "outputs": [
    {
     "name": "stdout",
     "output_type": "stream",
     "text": [
      "Hello, Python!\n"
     ]
    }
   ],
   "source": [
    "# replace(old, new) - Replaces all occurrences of old with new.\n",
    "\n",
    "my_string = \"Hello, World!\"\n",
    "print(my_string.replace(\"World\", \"Python\")) "
   ]
  },
  {
   "cell_type": "code",
   "execution_count": 6,
   "metadata": {},
   "outputs": [
    {
     "name": "stdout",
     "output_type": "stream",
     "text": [
      "['Hello', 'World!']\n"
     ]
    }
   ],
   "source": [
    "# split(separator) - Splits the string into a list using the specified separator.\n",
    "\n",
    "my_string = \"Hello, World!\"\n",
    "print(my_string.split(\", \"))"
   ]
  },
  {
   "cell_type": "code",
   "execution_count": 7,
   "metadata": {},
   "outputs": [
    {
     "name": "stdout",
     "output_type": "stream",
     "text": [
      "7\n"
     ]
    }
   ],
   "source": [
    "# find(substring) - Returns the index of the first occurrence of substring or -1 if not found.\n",
    "\n",
    "my_string = \"Hello, World!\"\n",
    "print(my_string.find(\"World\")) "
   ]
  },
  {
   "cell_type": "code",
   "execution_count": 8,
   "metadata": {},
   "outputs": [
    {
     "name": "stdout",
     "output_type": "stream",
     "text": [
      "Hello World\n"
     ]
    }
   ],
   "source": [
    "# join(iterable) - Joins elements of an iterable (e.g., list) into a single string.\n",
    "\n",
    "my_list = ['Hello', 'World']\n",
    "print(\" \".join(my_list))  "
   ]
  },
  {
   "cell_type": "code",
   "execution_count": 9,
   "metadata": {},
   "outputs": [
    {
     "name": "stdout",
     "output_type": "stream",
     "text": [
      "True\n"
     ]
    }
   ],
   "source": [
    "# startswith(prefix) - Returns True if the string starts with the specified prefix.\n",
    "\n",
    "my_string = \"Hello, World!\"\n",
    "print(my_string.startswith(\"Hello\")) "
   ]
  },
  {
   "cell_type": "code",
   "execution_count": 10,
   "metadata": {},
   "outputs": [
    {
     "name": "stdout",
     "output_type": "stream",
     "text": [
      "True\n"
     ]
    }
   ],
   "source": [
    "# endswith(suffix) - Returns True if the string ends with the specified suffix.\n",
    "\n",
    "my_string = \"Hello, World!\"\n",
    "print(my_string.endswith(\"World!\"))  "
   ]
  },
  {
   "cell_type": "code",
   "execution_count": 11,
   "metadata": {},
   "outputs": [
    {
     "name": "stdout",
     "output_type": "stream",
     "text": [
      "2\n"
     ]
    }
   ],
   "source": [
    "# count(substring) - Returns the number of occurrences of substring in the string.\n",
    "\n",
    "my_string = \"Hello, World! Hello!\"\n",
    "print(my_string.count(\"Hello\"))  "
   ]
  }
 ],
 "metadata": {
  "kernelspec": {
   "display_name": "Python 3 (ipykernel)",
   "language": "python",
   "name": "python3"
  },
  "language_info": {
   "codemirror_mode": {
    "name": "ipython",
    "version": 3
   },
   "file_extension": ".py",
   "mimetype": "text/x-python",
   "name": "python",
   "nbconvert_exporter": "python",
   "pygments_lexer": "ipython3",
   "version": "3.12.1"
  }
 },
 "nbformat": 4,
 "nbformat_minor": 2
}
